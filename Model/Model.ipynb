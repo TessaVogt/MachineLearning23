{
 "cells": [
  {
   "attachments": {},
   "cell_type": "markdown",
   "metadata": {},
   "source": [
    "## Tasksdescription:\n",
    "\n",
    "- Create a new model with the formula 𝑤2 ⋅ 𝑡𝑢^2 + 𝑤1 ⋅ 𝑡𝑢 + 𝑏\n",
    "- Adjust the training loop accordingly and perform the perform the training again\n",
    "- Did the \"loss\" get bigger or smaller with the new model?\n",
    "- Does the result look better or worse with the new model?\n",
    "- Plot the progression of the loss over 5000 epochs of training with the new and old model in a graph.\n",
    "\n",
    "## Implementation:"
   ]
  },
  {
   "cell_type": "code",
   "execution_count": 66,
   "metadata": {},
   "outputs": [],
   "source": [
    "# import necessary packages\n",
    "import torch\n",
    "import numpy as np\n",
    "import matplotlib.pyplot as plt\n",
    "import torch.optim as optim"
   ]
  },
  {
   "cell_type": "code",
   "execution_count": 67,
   "metadata": {},
   "outputs": [],
   "source": [
    "# import the data from the given file and store them under the variables t_u and t_c\n",
    "values = np.loadtxt('vl5_data.csv')\n",
    "t_u = torch.tensor(values[:,1])\n",
    "t_c = torch.tensor(values[:,0])"
   ]
  },
  {
   "cell_type": "code",
   "execution_count": null,
   "metadata": {},
   "outputs": [],
   "source": [
    "\n",
    "t_un = 0.1 * t_u\n",
    "new_params = torch.tensor([1.0, 1.0, 0.0], requires_grad=True) # [w1, w2, b]\n",
    "old_params = torch.tensor([1.0, 0.0], requires_grad=True) # [w, b]"
   ]
  },
  {
   "cell_type": "code",
   "execution_count": 68,
   "metadata": {},
   "outputs": [],
   "source": [
    "def new_model(t_u, params):\n",
    "    [w1, w2, b] = params\n",
    "    t_p = w2 * pow(t_u, 2) + w1 * t_u + b\n",
    "    return t_p\n",
    "\n",
    "def old_model(t_u, params):\n",
    "    [w, b] = params\n",
    "    t_p = w*t_u + b\n",
    "    return t_p"
   ]
  },
  {
   "cell_type": "code",
   "execution_count": 69,
   "metadata": {},
   "outputs": [],
   "source": [
    "def loss_fn(t_p, t_c):\n",
    "    sq_diff = (t_p - t_c)**2\n",
    "    return sq_diff.mean()\n",
    "\n",
    "\n",
    "def training_loop(n_epochs, optimizer, params, train_t_u, val_t_u, train_t_c, val_t_c):\n",
    "    for epoch in range(1, n_epochs + 1):\n",
    "        if params.size(dim=0) == 3:\n",
    "            train_t_p = new_model(train_t_u, params)\n",
    "        else:\n",
    "            train_t_p = old_model(train_t_u, params)\n",
    "        train_loss = loss_fn(train_t_p, train_t_c)\n",
    "        with torch.no_grad():\n",
    "            if params.size(dim=0) == 3:\n",
    "                val_t_p = new_model(val_t_u, params)\n",
    "            else:\n",
    "                val_t_p = old_model(val_t_u, params)\n",
    "            val_loss = loss_fn(val_t_p, val_t_c)\n",
    "            assert val_loss.requires_grad == False #Checks that our output requires_grad args are forced to False inside this block\n",
    "        optimizer.zero_grad()\n",
    "        train_loss.backward()\n",
    "        optimizer.step()\n",
    "        if epoch <= 3 or epoch % 500 == 0:\n",
    "            print(f\"Epoch {epoch}, Training loss {train_loss.item():.4f},\"f\" Validation loss {val_loss.item():.4f}\")"
   ]
  },
  {
   "cell_type": "code",
   "execution_count": 74,
   "metadata": {},
   "outputs": [
    {
     "name": "stdout",
     "output_type": "stream",
     "text": [
      "gesamtanzahl = 11, validierungsanzahl = 2\n",
      "tensor([2, 6, 5, 0, 9, 7, 8, 4, 3])\n",
      "tensor([10,  1])\n"
     ]
    }
   ],
   "source": [
    "n_samples = t_u.shape[0]\n",
    "n_val = int(0.2 * n_samples)\n",
    "print(f'gesamtanzahl = {n_samples}, validierungsanzahl = {n_val}')\n",
    "\n",
    "shuffled_indices = torch.randperm(n_samples)\n",
    "train_indices = shuffled_indices[:-n_val]\n",
    "val_indices = shuffled_indices[-n_val:]\n",
    "print(train_indices)\n",
    "print(val_indices)\n",
    "\n",
    "train_t_u = t_u[train_indices]\n",
    "train_t_c = t_c[train_indices]\n",
    "\n",
    "val_t_u = t_u[val_indices]\n",
    "val_t_c = t_c[val_indices]\n",
    "\n",
    "train_t_un = 0.1 * train_t_u\n",
    "val_t_un = 0.1 * val_t_u"
   ]
  },
  {
   "cell_type": "code",
   "execution_count": null,
   "metadata": {},
   "outputs": [],
   "source": [
    "learning_rate = 1e-1\n",
    "n_epochs = 5000"
   ]
  },
  {
   "cell_type": "code",
   "execution_count": 75,
   "metadata": {},
   "outputs": [
    {
     "name": "stdout",
     "output_type": "stream",
     "text": [
      "Epoch 1, Training loss 3.8866, Validation loss 2.7880\n",
      "Epoch 2, Training loss 3.5214, Validation loss 5.6875\n",
      "Epoch 3, Training loss 3.6759, Validation loss 8.0498\n",
      "Epoch 500, Training loss 2.9413, Validation loss 3.8999\n",
      "Epoch 1000, Training loss 2.9413, Validation loss 3.8999\n",
      "Epoch 1500, Training loss 2.9413, Validation loss 3.8999\n",
      "Epoch 2000, Training loss 2.9416, Validation loss 3.9744\n",
      "Epoch 2500, Training loss 2.9413, Validation loss 3.8998\n",
      "Epoch 3000, Training loss 2.9413, Validation loss 3.8999\n",
      "Epoch 3500, Training loss 2.9413, Validation loss 3.8997\n",
      "Epoch 4000, Training loss 2.9413, Validation loss 3.8983\n",
      "Epoch 4500, Training loss 2.9413, Validation loss 3.8992\n",
      "Epoch 5000, Training loss 2.9413, Validation loss 3.9000\n"
     ]
    },
    {
     "data": {
      "text/plain": [
       "[<matplotlib.lines.Line2D at 0x1ac9097d190>]"
      ]
     },
     "execution_count": 75,
     "metadata": {},
     "output_type": "execute_result"
    },
    {
     "data": {
      "image/png": "[encoded data removed]",
      "text/plain": [
       "<Figure size 640x480 with 1 Axes>"
      ]
     },
     "metadata": {},
     "output_type": "display_data"
    }
   ],
   "source": [
    "params = old_params\n",
    "optimizer = optim.Adam([params], lr=learning_rate)\n",
    "training_loop(n_epochs, optimizer, params, train_t_un, val_t_un, train_t_c, val_t_c)\n",
    "plt.plot(t_u, t_c, 'x')\n",
    "t_p = old_model(t_un, params)\n",
    "plt.plot(t_u, t_p.detach().numpy())"
   ]
  },
  {
   "cell_type": "code",
   "execution_count": 76,
   "metadata": {},
   "outputs": [
    {
     "name": "stdout",
     "output_type": "stream",
     "text": [
      "Epoch 1, Training loss 2.8414, Validation loss 4.2690\n",
      "Epoch 2, Training loss 12.9238, Validation loss 44.6007\n",
      "Epoch 3, Training loss 3.2811, Validation loss 14.7617\n",
      "Epoch 500, Training loss 1.6880, Validation loss 6.1269\n",
      "Epoch 1000, Training loss 1.6441, Validation loss 5.6347\n",
      "Epoch 1500, Training loss 1.6439, Validation loss 5.6045\n",
      "Epoch 2000, Training loss 1.6440, Validation loss 5.5423\n",
      "Epoch 2500, Training loss 1.6439, Validation loss 5.6042\n",
      "Epoch 3000, Training loss 1.6439, Validation loss 5.6019\n",
      "Epoch 3500, Training loss 1.6566, Validation loss 6.2534\n",
      "Epoch 4000, Training loss 1.6547, Validation loss 6.2035\n",
      "Epoch 4500, Training loss 1.6439, Validation loss 5.6041\n",
      "Epoch 5000, Training loss 1.8220, Validation loss 3.5072\n"
     ]
    },
    {
     "data": {
      "text/plain": [
       "[<matplotlib.lines.Line2D at 0x1ac909fe040>]"
      ]
     },
     "execution_count": 76,
     "metadata": {},
     "output_type": "execute_result"
    },
    {
     "data": {
      "image/png": "[encoded data removed]",
      "text/plain": [
       "<Figure size 640x480 with 1 Axes>"
      ]
     },
     "metadata": {},
     "output_type": "display_data"
    }
   ],
   "source": [
    "params = new_params\n",
    "optimizer = optim.Adam([params], lr=learning_rate)\n",
    "training_loop(n_epochs, optimizer, params, train_t_un, val_t_un, train_t_c, val_t_c)\n",
    "plt.plot(t_u, t_c, 'x')\n",
    "t_p = new_model(t_un, params)\n",
    "plt.plot(t_u, t_p.detach().numpy())"
   ]
  }
 ],
 "metadata": {
  "kernelspec": {
   "display_name": "Python 3",
   "language": "python",
   "name": "python3"
  },
  "language_info": {
   "codemirror_mode": {
    "name": "ipython",
    "version": 3
   },
   "file_extension": ".py",
   "mimetype": "text/x-python",
   "name": "python",
   "nbconvert_exporter": "python",
   "pygments_lexer": "ipython3",
   "version": "3.9.13"
  },
  "orig_nbformat": 4
 },
 "nbformat": 4,
 "nbformat_minor": 2
}
