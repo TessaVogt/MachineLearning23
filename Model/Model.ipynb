{
 "cells": [
  {
   "attachments": {},
   "cell_type": "markdown",
   "metadata": {},
   "source": [
    "## Tasksdescription:\n",
    "\n",
    "- Create a new model with the formula 𝑤2 ⋅ 𝑡𝑢^2 + 𝑤1 ⋅ 𝑡𝑢 + 𝑏\n",
    "- Adjust the training loop accordingly and perform the perform the training again\n",
    "- Did the \"loss\" get bigger or smaller with the new model?\n",
    "- Does the result look better or worse with the new model?\n",
    "- Plot the progression of the loss over 5000 epochs of training with the new and old model in a graph.\n",
    "\n",
    "## Implementation:"
   ]
  },
  {
   "cell_type": "code",
   "execution_count": 28,
   "metadata": {},
   "outputs": [],
   "source": [
    "# import necessary packages\n",
    "import torch\n",
    "import numpy as np\n",
    "import matplotlib.pyplot as plt\n",
    "import torch.optim as optim"
   ]
  },
  {
   "cell_type": "code",
   "execution_count": 29,
   "metadata": {},
   "outputs": [],
   "source": [
    "# import the data from the given file and store them under the variables t_u and t_c\n",
    "values = np.loadtxt('vl5_data.csv')\n",
    "t_u = torch.tensor(values[:,1])\n",
    "t_c = torch.tensor(values[:,0])"
   ]
  },
  {
   "cell_type": "code",
   "execution_count": 30,
   "metadata": {},
   "outputs": [],
   "source": [
    "# norminate the t_u and create tensors with starting values for w (slope) and b (y-intercept)\n",
    "t_un = 0.1 * t_u\n",
    "new_params = torch.tensor([1.0, 1.0, 0.0], requires_grad=True) # [w1, w2, b]\n",
    "old_params = torch.tensor([1.0, 0.0], requires_grad=True) # [w, b]"
   ]
  },
  {
   "cell_type": "code",
   "execution_count": 31,
   "metadata": {},
   "outputs": [],
   "source": [
    "# define the new model and give the old model for reference\n",
    "def new_model(t_u, params):\n",
    "    [w1, w2, b] = params\n",
    "    t_p = w2 * pow(t_u, 2) + w1 * t_u + b\n",
    "    return t_p\n",
    "\n",
    "def old_model(t_u, params):\n",
    "    [w, b] = params\n",
    "    t_p = w*t_u + b\n",
    "    return t_p"
   ]
  },
  {
   "cell_type": "code",
   "execution_count": 32,
   "metadata": {},
   "outputs": [],
   "source": [
    "# define the loss function\n",
    "def loss_fn(t_p, t_c):\n",
    "    sq_diff = (t_p - t_c)**2\n",
    "    return sq_diff.mean()\n",
    "\n",
    "# define the training_loop\n",
    "# distinguish between the old_params and new_params by looking at the size of the tensor\n",
    "def training_loop(n_epochs, optimizer, params, train_t_u, val_t_u, train_t_c, val_t_c):\n",
    "    for epoch in range(1, n_epochs + 1):\n",
    "        if params.size(dim=0) == 3:\n",
    "            train_t_p = new_model(train_t_u, params)\n",
    "        else:\n",
    "            train_t_p = old_model(train_t_u, params)\n",
    "        train_loss = loss_fn(train_t_p, train_t_c)\n",
    "        with torch.no_grad():\n",
    "            if params.size(dim=0) == 3:\n",
    "                val_t_p = new_model(val_t_u, params)\n",
    "            else:\n",
    "                val_t_p = old_model(val_t_u, params)\n",
    "            val_loss = loss_fn(val_t_p, val_t_c)\n",
    "            assert val_loss.requires_grad == False #Checks that our output requires_grad args are forced to False inside this block\n",
    "        optimizer.zero_grad()\n",
    "        train_loss.backward()\n",
    "        optimizer.step()\n",
    "        if epoch <= 3 or epoch % 500 == 0:\n",
    "            # print the training and validation loss for the first 3 epochs and after that only for epoche 500, 1000, 1500, 2000, ...\n",
    "            print(f\"Epoch {epoch}, Training loss {train_loss.item():.4f},\"f\" Validation loss {val_loss.item():.4f}\")"
   ]
  },
  {
   "cell_type": "code",
   "execution_count": 33,
   "metadata": {},
   "outputs": [
    {
     "name": "stdout",
     "output_type": "stream",
     "text": [
      "gesamtanzahl = 11, validierungsanzahl = 2\n",
      "tensor([5, 6, 4, 7, 2, 9, 8, 1, 3])\n",
      "tensor([10,  0])\n"
     ]
    }
   ],
   "source": [
    "# divide the data set into training and test data\n",
    "n_samples = t_u.shape[0]\n",
    "n_val = int(0.2 * n_samples)\n",
    "print(f'gesamtanzahl = {n_samples}, validierungsanzahl = {n_val}')\n",
    "\n",
    "shuffled_indices = torch.randperm(n_samples)\n",
    "train_indices = shuffled_indices[:-n_val]\n",
    "val_indices = shuffled_indices[-n_val:]\n",
    "print(train_indices)\n",
    "print(val_indices)\n",
    "\n",
    "train_t_u = t_u[train_indices]\n",
    "train_t_c = t_c[train_indices]\n",
    "\n",
    "val_t_u = t_u[val_indices]\n",
    "val_t_c = t_c[val_indices]\n",
    "\n",
    "# normalization\n",
    "train_t_un = 0.1 * train_t_u\n",
    "val_t_un = 0.1 * val_t_u"
   ]
  },
  {
   "cell_type": "code",
   "execution_count": 34,
   "metadata": {},
   "outputs": [],
   "source": [
    "# enter the parameters for adjusting the training loop\n",
    "learning_rate = 1e-1\n",
    "n_epochs = 5000"
   ]
  },
  {
   "cell_type": "code",
   "execution_count": 35,
   "metadata": {},
   "outputs": [
    {
     "name": "stdout",
     "output_type": "stream",
     "text": [
      "Epoch 1, Training loss 74.8975, Validation loss 104.9653\n",
      "Epoch 2, Training loss 66.6729, Validation loss 95.6786\n",
      "Epoch 3, Training loss 59.2884, Validation loss 87.2458\n",
      "Epoch 500, Training loss 3.0017, Validation loss 3.8733\n",
      "Epoch 1000, Training loss 2.9793, Validation loss 3.3240\n",
      "Epoch 1500, Training loss 2.9793, Validation loss 3.3238\n",
      "Epoch 2000, Training loss 2.9793, Validation loss 3.3238\n",
      "Epoch 2500, Training loss 2.9793, Validation loss 3.3238\n",
      "Epoch 3000, Training loss 2.9793, Validation loss 3.3238\n",
      "Epoch 3500, Training loss 2.9793, Validation loss 3.3238\n",
      "Epoch 4000, Training loss 2.9793, Validation loss 3.3238\n",
      "Epoch 4500, Training loss 2.9793, Validation loss 3.3238\n",
      "Epoch 5000, Training loss 2.9793, Validation loss 3.3238\n"
     ]
    },
    {
     "data": {
      "text/plain": [
       "[<matplotlib.lines.Line2D at 0x1a0468d3df0>]"
      ]
     },
     "execution_count": 35,
     "metadata": {},
     "output_type": "execute_result"
    },
    {
     "data": {
      "image/png": "[encoded data removed]",
      "text/plain": [
       "<Figure size 640x480 with 1 Axes>"
      ]
     },
     "metadata": {},
     "output_type": "display_data"
    }
   ],
   "source": [
    "# OLD Model\n",
    "params = old_params\n",
    "optimizer = optim.Adam([params], lr=learning_rate)\n",
    "training_loop(n_epochs, optimizer, params, train_t_un, val_t_un, train_t_c, val_t_c)\n",
    "t_p = old_model(t_un, params)\n",
    "plt.plot(t_u, t_c, 'x')\n",
    "plt.plot(t_u, t_p.detach().numpy())"
   ]
  },
  {
   "cell_type": "code",
   "execution_count": 36,
   "metadata": {},
   "outputs": [
    {
     "name": "stdout",
     "output_type": "stream",
     "text": [
      "Epoch 1, Training loss 679.9105, Validation loss 657.2704\n",
      "Epoch 2, Training loss 488.8383, Validation loss 468.0866\n",
      "Epoch 3, Training loss 330.7200, Validation loss 312.8300\n",
      "Epoch 500, Training loss 2.7188, Validation loss 3.6236\n",
      "Epoch 1000, Training loss 2.3787, Validation loss 3.4174\n",
      "Epoch 1500, Training loss 2.1544, Validation loss 3.2213\n",
      "Epoch 2000, Training loss 2.0582, Validation loss 3.0761\n",
      "Epoch 2500, Training loss 2.0317, Validation loss 2.9912\n",
      "Epoch 3000, Training loss 2.0274, Validation loss 2.9532\n",
      "Epoch 3500, Training loss 2.0271, Validation loss 2.9410\n",
      "Epoch 4000, Training loss 2.0270, Validation loss 2.9384\n",
      "Epoch 4500, Training loss 2.0270, Validation loss 2.9381\n",
      "Epoch 5000, Training loss 2.0270, Validation loss 2.9380\n"
     ]
    },
    {
     "data": {
      "text/plain": [
       "[<matplotlib.lines.Line2D at 0x1a04695c700>]"
      ]
     },
     "execution_count": 36,
     "metadata": {},
     "output_type": "execute_result"
    },
    {
     "data": {
      "image/png": "[encoded data removed]",
      "text/plain": [
       "<Figure size 640x480 with 1 Axes>"
      ]
     },
     "metadata": {},
     "output_type": "display_data"
    }
   ],
   "source": [
    "# NEW model\n",
    "params = new_params\n",
    "optimizer = optim.Adam([params], lr=learning_rate)\n",
    "training_loop(n_epochs, optimizer, params, train_t_un, val_t_un, train_t_c, val_t_c)\n",
    "t_p = new_model(t_un, params)\n",
    "plt.plot(t_u, t_c, 'x')\n",
    "plt.plot(t_u, t_p.detach().numpy())"
   ]
  }
 ],
 "metadata": {
  "kernelspec": {
   "display_name": "Python 3",
   "language": "python",
   "name": "python3"
  },
  "language_info": {
   "codemirror_mode": {
    "name": "ipython",
    "version": 3
   },
   "file_extension": ".py",
   "mimetype": "text/x-python",
   "name": "python",
   "nbconvert_exporter": "python",
   "pygments_lexer": "ipython3",
   "version": "3.9.13"
  },
  "orig_nbformat": 4
 },
 "nbformat": 4,
 "nbformat_minor": 2
}
