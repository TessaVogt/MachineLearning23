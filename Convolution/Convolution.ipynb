{
 "cells": [
  {
   "attachments": {},
   "cell_type": "markdown",
   "metadata": {},
   "source": [
    "# Task description:\n",
    "- Modify the model so that it uses a 5x5 kernel\n",
    "    - How does the number of free parameters in the model then change?\n",
    "    - Does overfitting improve or worsen?\n",
    "- Can you find an image which contains neither bird nor plane but is recognized by the network as one of the two objects with at least 95% probability?\n",
    "\n",
    "# Implementation:"
   ]
  },
  {
   "cell_type": "code",
   "execution_count": 171,
   "metadata": {},
   "outputs": [
    {
     "data": {
      "text/plain": [
       "<torch._C.Generator at 0x1a22a21ae30>"
      ]
     },
     "execution_count": 171,
     "metadata": {},
     "output_type": "execute_result"
    }
   ],
   "source": [
    "from matplotlib import pyplot as plt\n",
    "import numpy as np\n",
    "import collections\n",
    "\n",
    "import torch\n",
    "import torch.nn as nn\n",
    "import torch.nn.functional as F\n",
    "import torch.optim as optim\n",
    "\n",
    "from torchvision import datasets, transforms\n",
    "\n",
    "import datetime\n",
    "import random\n",
    "\n",
    "torch.set_printoptions(edgeitems=2)\n",
    "torch.manual_seed(123)"
   ]
  },
  {
   "attachments": {},
   "cell_type": "markdown",
   "metadata": {},
   "source": [
    "Modify the model so that it uses a 5x5 kernel:"
   ]
  },
  {
   "cell_type": "code",
   "execution_count": 173,
   "metadata": {},
   "outputs": [
    {
     "name": "stdout",
     "output_type": "stream",
     "text": [
      "Files already downloaded and verified\n",
      "Files already downloaded and verified\n"
     ]
    }
   ],
   "source": [
    "class_names = ['airplane','automobile','bird','cat','deer',\n",
    "               'dog','frog','horse','ship','truck']\n",
    "\n",
    "data_path = '../data-unversioned/p1ch6/'\n",
    "cifar10 = datasets.CIFAR10(\n",
    "    data_path, train=True, download=True,\n",
    "    transform=transforms.Compose([\n",
    "        transforms.ToTensor(),\n",
    "        transforms.Normalize((0.4915, 0.4823, 0.4468),\n",
    "                             (0.2470, 0.2435, 0.2616))\n",
    "    ]))\n",
    "\n",
    "cifar10_val = datasets.CIFAR10(\n",
    "    data_path, train=False, download=True,\n",
    "    transform=transforms.Compose([\n",
    "        transforms.ToTensor(),\n",
    "        transforms.Normalize((0.4915, 0.4823, 0.4468),\n",
    "                             (0.2470, 0.2435, 0.2616))\n",
    "    ]))"
   ]
  },
  {
   "cell_type": "code",
   "execution_count": 174,
   "metadata": {},
   "outputs": [],
   "source": [
    "label_map = {0: 0, 2: 1}\n",
    "class_names = ['airplane', 'bird']\n",
    "cifar2 = [(img, label_map[label])\n",
    "          for img, label in cifar10\n",
    "          if label in [0, 2]]\n",
    "cifar2_val = [(img, label_map[label])\n",
    "              for img, label in cifar10_val\n",
    "              if label in [0, 2]]"
   ]
  },
  {
   "cell_type": "code",
   "execution_count": 175,
   "metadata": {},
   "outputs": [],
   "source": [
    "# define the two nets with the 3x3-Kernel and the new 5x5-Kernel\n",
    "class Net_3x3(nn.Module):\n",
    "    def __init__(self):\n",
    "        super().__init__()\n",
    "        self.conv1 = nn.Conv2d(3, 16, kernel_size=3, padding=1) # padding=((kernel_size-1)/2)\n",
    "        self.conv2 = nn.Conv2d(16, 8, kernel_size=3, padding=1)\n",
    "        self.fc1 = nn.Linear(8 * 8 * 8, 32)\n",
    "        self.fc2 = nn.Linear(32, 2)\n",
    "        \n",
    "    def forward(self, x):\n",
    "        out = F.max_pool2d(torch.tanh(self.conv1(x)), 2)\n",
    "        out = F.max_pool2d(torch.tanh(self.conv2(out)), 2)\n",
    "        out = out.view(-1, 8 * 8 * 8)\n",
    "        out = torch.tanh(self.fc1(out))\n",
    "        out = self.fc2(out)\n",
    "        return out\n",
    "    \n",
    "class Net_5x5(nn.Module):\n",
    "    def __init__(self):\n",
    "        super().__init__()\n",
    "        self.conv1 = nn.Conv2d(3, 16, kernel_size=5, padding=2) # padding=((kernel_size-1)/2)\n",
    "        self.conv2 = nn.Conv2d(16, 8, kernel_size=5, padding=2)\n",
    "        self.fc1 = nn.Linear(8 * 8 * 8, 32)\n",
    "        self.fc2 = nn.Linear(32, 2)\n",
    "        \n",
    "    def forward(self, x):\n",
    "        out = F.max_pool2d(torch.tanh(self.conv1(x)), 2)\n",
    "        out = F.max_pool2d(torch.tanh(self.conv2(out)), 2)\n",
    "        out = out.view(-1, 8 * 8 * 8)\n",
    "        out = torch.tanh(self.fc1(out))\n",
    "        out = self.fc2(out)\n",
    "        return out"
   ]
  },
  {
   "cell_type": "code",
   "execution_count": 176,
   "metadata": {},
   "outputs": [],
   "source": [
    "# define the training loop\n",
    "def training_loop(n_epochs, optimizer, model, loss_fn, train_loader):\n",
    "    for epoch in range(1, n_epochs + 1):\n",
    "        loss_train = 0.0\n",
    "\n",
    "        for imgs, labels in train_loader:\n",
    "            outputs = model(imgs) \n",
    "            loss = loss_fn(outputs, labels)\n",
    "            optimizer.zero_grad() \n",
    "            loss.backward()\n",
    "            optimizer.step()\n",
    "            loss_train += loss.item() \n",
    "\n",
    "        if epoch == 1 or epoch % 10 == 0:\n",
    "            print('{} Epoch {}, Training loss {}'.format(\n",
    "                datetime.datetime.now(), epoch,\n",
    "                loss_train / len(train_loader)))"
   ]
  },
  {
   "cell_type": "code",
   "execution_count": 177,
   "metadata": {},
   "outputs": [],
   "source": [
    "# validates the accuracy of a given model on training and validation data \n",
    "# and stores the results in a dictionary\n",
    "def validate(model, train_loader, val_loader):\n",
    "    accdict = {}\n",
    "    for name, loader in [(\"train\", train_loader), (\"val\", val_loader)]:\n",
    "        correct = 0\n",
    "        total = 0\n",
    "\n",
    "        with torch.no_grad():\n",
    "            for imgs, labels in loader:\n",
    "                outputs = model(imgs)\n",
    "                _, predicted = torch.max(outputs, dim=1) # <1>\n",
    "                total += labels.shape[0]\n",
    "                correct += int((predicted == labels).sum())\n",
    "\n",
    "        print(\"Accuracy {}: {:.2f}\".format(name , correct / total))\n",
    "        accdict[name] = correct / total\n",
    "    return accdict"
   ]
  },
  {
   "cell_type": "code",
   "execution_count": 226,
   "metadata": {},
   "outputs": [
    {
     "name": "stdout",
     "output_type": "stream",
     "text": [
      "2023-06-02 14:32:09.903340 Epoch 1, Training loss 0.5561399643967866\n",
      "2023-06-02 14:32:37.878557 Epoch 10, Training loss 0.3278891425223867\n",
      "2023-06-02 14:33:08.181482 Epoch 20, Training loss 0.2980692586891211\n",
      "2023-06-02 14:33:38.423604 Epoch 30, Training loss 0.27329967327558313\n",
      "2023-06-02 14:34:08.582947 Epoch 40, Training loss 0.25157777765753925\n",
      "2023-06-02 14:34:37.937447 Epoch 50, Training loss 0.2348853757332085\n",
      "2023-06-02 14:35:07.717835 Epoch 60, Training loss 0.21817942352811243\n",
      "2023-06-02 14:35:37.768473 Epoch 70, Training loss 0.20425781916091396\n",
      "2023-06-02 14:36:07.333368 Epoch 80, Training loss 0.1873378913825864\n",
      "2023-06-02 14:36:37.168582 Epoch 90, Training loss 0.17626218412332473\n",
      "2023-06-02 14:37:06.856186 Epoch 100, Training loss 0.16178494032211366\n",
      "Accuracy train: 0.93\n",
      "Accuracy val: 0.88\n",
      "Number of free parameters in the model: 18090\n"
     ]
    }
   ],
   "source": [
    "train_loader = torch.utils.data.DataLoader(cifar2, batch_size=64, shuffle=True)\n",
    "val_loader = torch.utils.data.DataLoader(cifar2_val, batch_size=64, shuffle=False)\n",
    "all_acc_dict = collections.OrderedDict()\n",
    "\n",
    "model = Net_3x3()\n",
    "optimizer = optim.SGD(model.parameters(), lr=1e-2)\n",
    "loss_fn = nn.CrossEntropyLoss()\n",
    "\n",
    "training_loop( \n",
    "    n_epochs = 100,\n",
    "    optimizer = optimizer,\n",
    "    model = model,\n",
    "    loss_fn = loss_fn,\n",
    "    train_loader = train_loader,\n",
    ")\n",
    "all_acc_dict[\"baseline\"] = validate(model, train_loader, val_loader)\n",
    "print(\"Number of free parameters in the model:\",sum(p.numel() for p in model.parameters()))\n"
   ]
  },
  {
   "cell_type": "code",
   "execution_count": 227,
   "metadata": {},
   "outputs": [
    {
     "name": "stdout",
     "output_type": "stream",
     "text": [
      "Model birds_vs_airplanes_3x3.pt saved successfully\n"
     ]
    }
   ],
   "source": [
    "model = Net_3x3()\n",
    "model_name = \"birds_vs_airplanes_3x3.pt\"\n",
    "data_path = \"C:\\\\Users\\\\tvogt\\\\OneDrive\\\\Dokumente\\\\FH_Dortmund\\\\DeepLearning\\\\Convolution\"\n",
    "\n",
    "try:\n",
    "    torch.save(model.state_dict(), data_path + model_name)\n",
    "    print(f\"Model {model_name} saved successfully\")\n",
    "except:\n",
    "    print(f\"Could not save model {model_name}\")"
   ]
  },
  {
   "cell_type": "code",
   "execution_count": 228,
   "metadata": {},
   "outputs": [
    {
     "name": "stdout",
     "output_type": "stream",
     "text": [
      "2023-06-02 14:37:12.150060 Epoch 1, Training loss 0.5788736487649808\n",
      "2023-06-02 14:37:41.463631 Epoch 10, Training loss 0.3241153276839833\n",
      "2023-06-02 14:38:13.765281 Epoch 20, Training loss 0.27539890933378486\n",
      "2023-06-02 14:38:45.899309 Epoch 30, Training loss 0.24614613655076664\n",
      "2023-06-02 14:39:18.556972 Epoch 40, Training loss 0.22555985259022682\n",
      "2023-06-02 14:39:51.126868 Epoch 50, Training loss 0.20024050928794654\n",
      "2023-06-02 14:40:24.334094 Epoch 60, Training loss 0.18119362812892648\n",
      "2023-06-02 14:40:57.681875 Epoch 70, Training loss 0.16361402682248194\n",
      "2023-06-02 14:41:31.370781 Epoch 80, Training loss 0.1440925090603388\n",
      "2023-06-02 14:42:04.681694 Epoch 90, Training loss 0.12633091545883257\n",
      "2023-06-02 14:42:37.306479 Epoch 100, Training loss 0.10816271075160261\n",
      "Accuracy train: 0.93\n",
      "Accuracy val: 0.89\n",
      "Number of free parameters in the model: 20906\n"
     ]
    }
   ],
   "source": [
    "model = Net_5x5()\n",
    "optimizer = optim.SGD(model.parameters(), lr=1e-2)\n",
    "loss_fn = nn.CrossEntropyLoss()\n",
    "\n",
    "training_loop( \n",
    "    n_epochs = 100,\n",
    "    optimizer = optimizer,\n",
    "    model = model,\n",
    "    loss_fn = loss_fn,\n",
    "    train_loader = train_loader,\n",
    ")\n",
    "all_acc_dict[\"biggerKernel\"] = validate(model, train_loader, val_loader)\n",
    "print(\"Number of free parameters in the model:\",sum(p.numel() for p in model.parameters()))"
   ]
  },
  {
   "attachments": {},
   "cell_type": "markdown",
   "metadata": {},
   "source": [
    "### Answer:\n",
    "- How does the number of free parameters in the model then change?\n",
    "    - The number of free parameters increases from 18090 for the 3x3-Kernel to 20906 free parameters for the 5x5-Kernel. <br>\n",
    "    The number of parameters in a convolutional layer is determined by the kernel size, input channels, and output channels. By increasing the kernel size the number of parameters in the model will generally increase, so the answer was to be expected.\n",
    "- Does overfitting improve or worsen?\n",
    "    - Increasing the kernel size to 5x5 may increase the risk of overfitting. A larger kernel size allows the model to capture more complex patterns in the data, which can potentially lead to better performance on the training set. However, if the model becomes too complex or over-parameterized, it may start to memorize the training data and struggle to generalize well to unseen data, resulting in overfitting. Therefore, it is possible that overfitting worsens when using a larger kernel size. <br>\n",
    "    In reality, I could not clearly detect any overfitting. The accuracy for the training data set is slightly higher for both kernel sizes than for the validation data set. However, there is not much difference between the two training (about 0.93) and validation (about 0.89) accuracies.\n"
   ]
  },
  {
   "cell_type": "code",
   "execution_count": 229,
   "metadata": {},
   "outputs": [
    {
     "name": "stdout",
     "output_type": "stream",
     "text": [
      "Model birds_vs_airplanes_5x5.pt saved successfully\n"
     ]
    }
   ],
   "source": [
    "# save the model\n",
    "model = Net_5x5()\n",
    "model_name = \"birds_vs_airplanes_5x5.pt\"\n",
    "data_path = \"C:\\\\Users\\\\tvogt\\\\OneDrive\\\\Dokumente\\\\FH_Dortmund\\\\DeepLearning\\\\Convolution\"\n",
    "\n",
    "try:\n",
    "    torch.save(model.state_dict(), data_path + model_name)\n",
    "    print(f\"Model {model_name} saved successfully\")\n",
    "except:\n",
    "    print(f\"Could not save model {model_name}\")"
   ]
  },
  {
   "attachments": {},
   "cell_type": "markdown",
   "metadata": {},
   "source": [
    "Can you find an image which contains neither bird nor plane but is recognized by the network as one of the two objects with at least 95% probability?"
   ]
  },
  {
   "cell_type": "code",
   "execution_count": 230,
   "metadata": {},
   "outputs": [
    {
     "name": "stdout",
     "output_type": "stream",
     "text": [
      "Files already downloaded and verified\n",
      "Files already downloaded and verified\n"
     ]
    }
   ],
   "source": [
    "# load dataset with images and labels from the cifar10 with all but the two classes bird and airplane\n",
    "data_path = '../data-unversioned/p1ch6/'\n",
    "cifar10_nonor = datasets.CIFAR10(\n",
    "    data_path, train=True, download=True,\n",
    "    transform=transforms.Compose([\n",
    "        transforms.ToTensor()\n",
    "    ]))\n",
    "cifar10_val_nonor = datasets.CIFAR10(\n",
    "    data_path, train=False, download=True,\n",
    "    transform=transforms.Compose([\n",
    "        transforms.ToTensor()\n",
    "    ]))\n",
    "\n",
    "\n",
    "label_map_not = {1: 0, 3: 1, 4: 2, 5: 3, 6: 4, 7: 5, 8: 6, 9: 7}\n",
    "class_names_not = ['automobile', 'cat', 'deer', 'dog', 'frog', 'horse', 'ship', 'truck']\n",
    "\n",
    "cifarnot2 = [(img, label_map_not[label])\n",
    "          for img, label in cifar10_nonor\n",
    "          if label in [1, 3, 4, 5, 6, 7, 8, 9]]\n",
    "\n",
    "cifarnot2_val = [(img, label_map_not[label])\n",
    "              for img, label in cifar10_val_nonor\n",
    "              if label in [1, 3, 4, 5, 6, 7, 8, 9]]\n"
   ]
  },
  {
   "cell_type": "code",
   "execution_count": 255,
   "metadata": {},
   "outputs": [
    {
     "data": {
      "image/png": "[encoded data removed]",
      "text/plain": [
       "<Figure size 640x480 with 1 Axes>"
      ]
     },
     "metadata": {},
     "output_type": "display_data"
    }
   ],
   "source": [
    "# randomly choosing an image from the unknown dataset\n",
    "img_not, label_not = random.choice(cifarnot2)\n",
    "\n",
    "# show the choosen image with the correct label\n",
    "plt.imshow(img_not.permute(1,2,0))\n",
    "plt.title(f\"Original Class: {class_names_not[label_not]}\")\n",
    "plt.axis('off')\n",
    "plt.show()\n"
   ]
  },
  {
   "cell_type": "code",
   "execution_count": 256,
   "metadata": {},
   "outputs": [
    {
     "name": "stdout",
     "output_type": "stream",
     "text": [
      "Model was loaded successfully\n"
     ]
    }
   ],
   "source": [
    "# load model with 3x3 - Kernel\n",
    "loaded_model = Net_3x3()  # <1>\n",
    "try:\n",
    "    loaded_model.load_state_dict(torch.load(data_path + 'birds_vs_airplanes.pt'))\n",
    "    print(\"Model was loaded successfully\")\n",
    "except:\n",
    "    print(\"Model could not be loaded\")"
   ]
  },
  {
   "cell_type": "code",
   "execution_count": 257,
   "metadata": {},
   "outputs": [],
   "source": [
    "# computes the softmax activation function for a given input tensor x, \n",
    "# which exponentiates each element of x, divides it by the sum of the exponentiated elements,\n",
    "# and returns the resulting tensor\n",
    "def softmax(x):\n",
    "    return torch.exp(x) / torch.exp(x).sum()"
   ]
  },
  {
   "cell_type": "code",
   "execution_count": 258,
   "metadata": {},
   "outputs": [],
   "source": [
    "# let the model run with the choosen image and calculate the probabilities for it being a bird or an airplane\n",
    "out = loaded_model(img_not)\n",
    "probability = softmax(out)[0]\n",
    "probability_airplane = round(probability[0].item(),4)\n",
    "probability_bird = round(probability[1].item(),4)"
   ]
  },
  {
   "cell_type": "code",
   "execution_count": 259,
   "metadata": {},
   "outputs": [
    {
     "data": {
      "image/png": "[encoded data removed]",
      "text/plain": [
       "<Figure size 640x480 with 1 Axes>"
      ]
     },
     "metadata": {},
     "output_type": "display_data"
    }
   ],
   "source": [
    "# show the choosen image with the calculated label probabilities\n",
    "plt.imshow(img_not.permute(1,2,0))\n",
    "plt.title(f\"Probabilities:\\nAirplane: {probability_airplane}, Bird: {probability_bird}\")\n",
    "plt.axis('off')\n",
    "plt.show()"
   ]
  }
 ],
 "metadata": {
  "celltoolbar": "Tags",
  "kernelspec": {
   "display_name": "Python 3",
   "language": "python",
   "name": "python3"
  },
  "language_info": {
   "codemirror_mode": {
    "name": "ipython",
    "version": 3
   },
   "file_extension": ".py",
   "mimetype": "text/x-python",
   "name": "python",
   "nbconvert_exporter": "python",
   "pygments_lexer": "ipython3",
   "version": "3.9.13"
  }
 },
 "nbformat": 4,
 "nbformat_minor": 2
}
